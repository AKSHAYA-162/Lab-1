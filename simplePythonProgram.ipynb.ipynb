{
 "cells": [
  {
   "cell_type": "code",
   "execution_count": 1,
   "metadata": {},
   "outputs": [
    {
     "name": "stdout",
     "output_type": "stream",
     "text": [
      "Hello, Akshaya!\n",
      "Sum: 6.0\n",
      "Product: 8.0\n",
      "The sum is not greater than 10.\n",
      "Iteration 1\n",
      "Iteration 2\n",
      "Iteration 3\n",
      "Iteration 4\n",
      "Iteration 5\n"
     ]
    }
   ],
   "source": [
    "# Basic Python Program\n",
    "\n",
    "# 1. Taking User Input\n",
    "name = input(\"Enter your name: \")\n",
    "print(\"Hello, \" + name + \"!\")\n",
    "\n",
    "# 2. Performing Calculations\n",
    "num1 = float(input(\"Enter a number: \"))\n",
    "num2 = float(input(\"Enter another number: \"))\n",
    "sum_result = num1 + num2\n",
    "product_result = num1 * num2\n",
    "\n",
    "# 3. Displaying Results\n",
    "print(\"Sum:\", sum_result)\n",
    "print(\"Product:\", product_result)\n",
    "\n",
    "# 4. Conditional Statement\n",
    "if sum_result > 10:\n",
    "    print(\"The sum is greater than 10.\")\n",
    "else:\n",
    "    print(\"The sum is not greater than 10.\")\n",
    "\n",
    "# 5. Looping\n",
    "for i in range(5):\n",
    "    print(\"Iteration\", i + 1)\n",
    "\n",
    "# End of Program\n"
   ]
  }
 ],
 "metadata": {
  "kernelspec": {
   "display_name": "Python 3",
   "language": "python",
   "name": "python3"
  },
  "language_info": {
   "codemirror_mode": {
    "name": "ipython",
    "version": 3
   },
   "file_extension": ".py",
   "mimetype": "text/x-python",
   "name": "python",
   "nbconvert_exporter": "python",
   "pygments_lexer": "ipython3",
   "version": "3.11.5"
  }
 },
 "nbformat": 4,
 "nbformat_minor": 2
}
